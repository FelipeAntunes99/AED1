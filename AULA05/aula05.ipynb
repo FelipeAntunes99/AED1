{
 "cells": [
  {
   "cell_type": "code",
   "execution_count": 1,
   "id": "22ee7304-e57f-4ccc-8abc-a58b769d5a3a",
   "metadata": {},
   "outputs": [
    {
     "name": "stdout",
     "output_type": "stream",
     "text": [
      "Ola mundo!\n"
     ]
    }
   ],
   "source": [
    "print(\"Ola mundo!\")"
   ]
  },
  {
   "cell_type": "code",
   "execution_count": 2,
   "id": "8910f850-52ab-477c-b4da-441439b5efd6",
   "metadata": {},
   "outputs": [
    {
     "data": {
      "text/plain": [
       "10"
      ]
     },
     "execution_count": 2,
     "metadata": {},
     "output_type": "execute_result"
    }
   ],
   "source": [
    "5+5"
   ]
  },
  {
   "cell_type": "code",
   "execution_count": null,
   "id": "cbef377b-094b-490b-9933-f68e43f090e2",
   "metadata": {},
   "outputs": [],
   "source": []
  },
  {
   "cell_type": "code",
   "execution_count": 3,
   "id": "5f138bfe-3b62-481a-b51f-e35403fe87e7",
   "metadata": {},
   "outputs": [],
   "source": [
    "nome  = \"Felipe\" "
   ]
  },
  {
   "cell_type": "code",
   "execution_count": 4,
   "id": "5cba1128-4b02-4722-9543-0bf9bba34242",
   "metadata": {},
   "outputs": [
    {
     "data": {
      "text/plain": [
       "'Felipe'"
      ]
     },
     "execution_count": 4,
     "metadata": {},
     "output_type": "execute_result"
    }
   ],
   "source": [
    "nome"
   ]
  },
  {
   "cell_type": "code",
   "execution_count": 5,
   "id": "6d60f062-40a3-4c2e-85cf-b809270d92ca",
   "metadata": {},
   "outputs": [],
   "source": [
    "x = \"345\""
   ]
  },
  {
   "cell_type": "code",
   "execution_count": 6,
   "id": "f88ff5cf-abc0-43d2-8841-82fcf195cf49",
   "metadata": {},
   "outputs": [
    {
     "data": {
      "text/plain": [
       "'345'"
      ]
     },
     "execution_count": 6,
     "metadata": {},
     "output_type": "execute_result"
    }
   ],
   "source": [
    "x"
   ]
  },
  {
   "cell_type": "code",
   "execution_count": 11,
   "id": "650e4ce0-7e75-4385-a078-c8de74330acb",
   "metadata": {},
   "outputs": [],
   "source": [
    "x = 345"
   ]
  },
  {
   "cell_type": "code",
   "execution_count": 12,
   "id": "ea470ab9-a6df-4d1a-bbdc-bd98291e4f80",
   "metadata": {},
   "outputs": [],
   "source": [
    "y = x + 2"
   ]
  },
  {
   "cell_type": "code",
   "execution_count": 13,
   "id": "56d39256-f439-4b73-ac3d-c2380b2862c6",
   "metadata": {},
   "outputs": [
    {
     "data": {
      "text/plain": [
       "347"
      ]
     },
     "execution_count": 13,
     "metadata": {},
     "output_type": "execute_result"
    }
   ],
   "source": [
    "y"
   ]
  },
  {
   "cell_type": "code",
   "execution_count": 14,
   "id": "66176314-474b-43e0-a600-ae5b6ea03e17",
   "metadata": {},
   "outputs": [],
   "source": [
    "a = 5"
   ]
  },
  {
   "cell_type": "code",
   "execution_count": 15,
   "id": "f584d134-8b7a-48ff-9f2c-ce4b4e9b7aea",
   "metadata": {},
   "outputs": [
    {
     "data": {
      "text/plain": [
       "int"
      ]
     },
     "execution_count": 15,
     "metadata": {},
     "output_type": "execute_result"
    }
   ],
   "source": [
    "type (a)"
   ]
  },
  {
   "cell_type": "code",
   "execution_count": 17,
   "id": "d61ad00b-1ccd-415f-b6a5-6a8c1805c11e",
   "metadata": {},
   "outputs": [],
   "source": [
    "a = \"True\""
   ]
  },
  {
   "cell_type": "code",
   "execution_count": 18,
   "id": "eb284b9d-1ee4-4267-a7bd-2266bb1cefbe",
   "metadata": {},
   "outputs": [
    {
     "data": {
      "text/plain": [
       "str"
      ]
     },
     "execution_count": 18,
     "metadata": {},
     "output_type": "execute_result"
    }
   ],
   "source": [
    "type (a)"
   ]
  },
  {
   "cell_type": "code",
   "execution_count": 19,
   "id": "409229ec-f22a-4b1e-8c7b-291d828db075",
   "metadata": {},
   "outputs": [],
   "source": [
    "a = 5.6"
   ]
  },
  {
   "cell_type": "code",
   "execution_count": 20,
   "id": "7ec57ce1-5cb6-4412-becb-9eb0d5394dc6",
   "metadata": {},
   "outputs": [
    {
     "data": {
      "text/plain": [
       "float"
      ]
     },
     "execution_count": 20,
     "metadata": {},
     "output_type": "execute_result"
    }
   ],
   "source": [
    "type (a)"
   ]
  },
  {
   "cell_type": "code",
   "execution_count": 21,
   "id": "4ad8d64d-90d3-4468-960e-9bc1176a6a5a",
   "metadata": {},
   "outputs": [],
   "source": [
    "x = 45 "
   ]
  },
  {
   "cell_type": "code",
   "execution_count": 22,
   "id": "c24f3af9-f802-46c9-8155-ec004c649327",
   "metadata": {},
   "outputs": [],
   "source": [
    "y = 23"
   ]
  },
  {
   "cell_type": "code",
   "execution_count": 23,
   "id": "d9efe265-c0d4-40d3-82a0-c0a9fafc6c0e",
   "metadata": {},
   "outputs": [],
   "source": [
    "soma = x + y "
   ]
  },
  {
   "cell_type": "code",
   "execution_count": 24,
   "id": "7b6ff1f3-dbd2-4914-9cf7-6618061d0b11",
   "metadata": {},
   "outputs": [
    {
     "data": {
      "text/plain": [
       "int"
      ]
     },
     "execution_count": 24,
     "metadata": {},
     "output_type": "execute_result"
    }
   ],
   "source": [
    "type (soma)"
   ]
  },
  {
   "cell_type": "code",
   "execution_count": 25,
   "id": "efe5ae68-b62d-46b0-b2e6-f9e600680655",
   "metadata": {},
   "outputs": [
    {
     "name": "stdout",
     "output_type": "stream",
     "text": [
      "68\n"
     ]
    }
   ],
   "source": [
    "print(soma)"
   ]
  },
  {
   "cell_type": "code",
   "execution_count": 26,
   "id": "41ef0917-ad3e-4fc6-968c-988710bf646d",
   "metadata": {},
   "outputs": [
    {
     "data": {
      "text/plain": [
       "1"
      ]
     },
     "execution_count": 26,
     "metadata": {},
     "output_type": "execute_result"
    }
   ],
   "source": [
    "x // y"
   ]
  },
  {
   "cell_type": "code",
   "execution_count": 27,
   "id": "a4c130a3-d6af-4751-9fc1-e2637dbbe405",
   "metadata": {},
   "outputs": [],
   "source": [
    "y = 4.5"
   ]
  },
  {
   "cell_type": "code",
   "execution_count": 28,
   "id": "4b596608-5e31-4d19-be09-ca11cac44a0e",
   "metadata": {},
   "outputs": [
    {
     "data": {
      "text/plain": [
       "float"
      ]
     },
     "execution_count": 28,
     "metadata": {},
     "output_type": "execute_result"
    }
   ],
   "source": [
    "type (y)"
   ]
  },
  {
   "cell_type": "code",
   "execution_count": 29,
   "id": "0a2c7b7f-7533-4595-9bc6-3123f1f4c6bb",
   "metadata": {},
   "outputs": [],
   "source": [
    "x = True"
   ]
  },
  {
   "cell_type": "code",
   "execution_count": 30,
   "id": "e3e2409f-5513-444e-83ff-bf06bfbd0d4b",
   "metadata": {},
   "outputs": [
    {
     "data": {
      "text/plain": [
       "True"
      ]
     },
     "execution_count": 30,
     "metadata": {},
     "output_type": "execute_result"
    }
   ],
   "source": [
    "x"
   ]
  },
  {
   "cell_type": "code",
   "execution_count": 31,
   "id": "64e8d093-10e3-4629-81a7-ce35be015db3",
   "metadata": {},
   "outputs": [],
   "source": [
    "y = False"
   ]
  },
  {
   "cell_type": "code",
   "execution_count": 32,
   "id": "24df369e-8560-4d7a-8b89-bf33a60c30b4",
   "metadata": {},
   "outputs": [
    {
     "data": {
      "text/plain": [
       "False"
      ]
     },
     "execution_count": 32,
     "metadata": {},
     "output_type": "execute_result"
    }
   ],
   "source": [
    "x and y"
   ]
  },
  {
   "cell_type": "code",
   "execution_count": 33,
   "id": "6962833f-1431-4d35-aaad-fb9f8312a41e",
   "metadata": {},
   "outputs": [
    {
     "data": {
      "text/plain": [
       "False"
      ]
     },
     "execution_count": 33,
     "metadata": {},
     "output_type": "execute_result"
    }
   ],
   "source": [
    "not x"
   ]
  },
  {
   "cell_type": "code",
   "execution_count": 34,
   "id": "aba2c703-636f-47a7-8d3e-d16c55a53ac5",
   "metadata": {},
   "outputs": [],
   "source": [
    "nome = \"Felipe\""
   ]
  },
  {
   "cell_type": "code",
   "execution_count": 35,
   "id": "13e204e7-116f-431b-8609-8ba2c4e4e478",
   "metadata": {},
   "outputs": [
    {
     "data": {
      "text/plain": [
       "str"
      ]
     },
     "execution_count": 35,
     "metadata": {},
     "output_type": "execute_result"
    }
   ],
   "source": [
    "type (nome)"
   ]
  },
  {
   "cell_type": "code",
   "execution_count": 36,
   "id": "4ec9cacf-7151-4b04-acb7-f3043cc7cccd",
   "metadata": {},
   "outputs": [
    {
     "data": {
      "text/plain": [
       "'FelipeFelipeFelipeFelipe'"
      ]
     },
     "execution_count": 36,
     "metadata": {},
     "output_type": "execute_result"
    }
   ],
   "source": [
    "nome*4"
   ]
  },
  {
   "cell_type": "code",
   "execution_count": 37,
   "id": "f5729a3d-3542-44bc-8a46-5ff6eb8f3f90",
   "metadata": {},
   "outputs": [
    {
     "data": {
      "text/plain": [
       "'F'"
      ]
     },
     "execution_count": 37,
     "metadata": {},
     "output_type": "execute_result"
    }
   ],
   "source": [
    "nome[0]"
   ]
  },
  {
   "cell_type": "code",
   "execution_count": null,
   "id": "b4c53198-b631-4f67-bb0e-f987d572cc1b",
   "metadata": {},
   "outputs": [],
   "source": []
  }
 ],
 "metadata": {
  "kernelspec": {
   "display_name": "Python 3 (ipykernel)",
   "language": "python",
   "name": "python3"
  },
  "language_info": {
   "codemirror_mode": {
    "name": "ipython",
    "version": 3
   },
   "file_extension": ".py",
   "mimetype": "text/x-python",
   "name": "python",
   "nbconvert_exporter": "python",
   "pygments_lexer": "ipython3",
   "version": "3.12.4"
  }
 },
 "nbformat": 4,
 "nbformat_minor": 5
}
