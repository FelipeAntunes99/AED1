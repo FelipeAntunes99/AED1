{
 "cells": [
  {
   "cell_type": "markdown",
   "metadata": {},
   "source": [
    "![Algoritmos e Estrutura de Dados I](AED1_banner.jpg)"
   ]
  },
  {
   "cell_type": "markdown",
   "metadata": {},
   "source": [
    "## <font color='blue'>Algoritmos e Estrutura de Dados I</font>\n",
    "## <font color='blue'>Aula 9 -  Revisão</font>"
   ]
  },
  {
   "cell_type": "code",
   "execution_count": null,
   "metadata": {},
   "outputs": [],
   "source": [
    "# Versão da Linguagem Python\n",
    "from platform import python_version\n",
    "print('Versão da Linguagem Python Usada Neste Jupyter Notebook:', python_version())"
   ]
  },
  {
   "cell_type": "markdown",
   "metadata": {},
   "source": [
    "## Estrutura sequencial"
   ]
  },
  {
   "cell_type": "markdown",
   "metadata": {},
   "source": [
    "Escreva um programa em Python que solicite ao usuário o valor de dois números, calcule e exiba a soma deles."
   ]
  },
  {
   "cell_type": "code",
   "execution_count": 10,
   "metadata": {},
   "outputs": [
    {
     "name": "stdin",
     "output_type": "stream",
     "text": [
      "Digite o primeiro número:  10\n",
      "Digite o segundo número:  20\n"
     ]
    },
    {
     "name": "stdout",
     "output_type": "stream",
     "text": [
      "A soma de 10.0 e 20.0 é: 30.0!\n"
     ]
    }
   ],
   "source": [
    "numero1 = float(input(\"Digite o primeiro número: \"))\n",
    "numero2 = float(input(\"Digite o segundo número: \"))\n",
    "\n",
    "soma = numero1 + numero2\n",
    "\n",
    "print(f\"A soma de {numero1} e {numero2} é: {soma}!\")"
   ]
  },
  {
   "cell_type": "code",
   "execution_count": 6,
   "metadata": {},
   "outputs": [
    {
     "name": "stdin",
     "output_type": "stream",
     "text": [
      "Digite o primeiro número:  34\n",
      "Digite o segundo número:  23\n"
     ]
    },
    {
     "name": "stdout",
     "output_type": "stream",
     "text": [
      "A soma dos dois números é igual a 57\n"
     ]
    }
   ],
   "source": [
    "numero1 = int(input(\"Digite o primeiro número: \"))\n",
    "numero2 = int(input(\"Digite o segundo número: \"))\n",
    "\n",
    "print(\"A soma dos dois números é igual a\", numero1 + numero2)"
   ]
  },
  {
   "attachments": {},
   "cell_type": "markdown",
   "metadata": {},
   "source": [
    "Escreva um programa em Python que solicite ao usuário a temperatura em graus Celsius e converta para Fahrenheit. A fórmula para conversão é F = C * 9/5 + 32.\n"
   ]
  },
  {
   "cell_type": "code",
   "execution_count": 24,
   "metadata": {},
   "outputs": [
    {
     "name": "stdin",
     "output_type": "stream",
     "text": [
      "Digite a temperatura em grau Celsius:  28\n"
     ]
    },
    {
     "name": "stdout",
     "output_type": "stream",
     "text": [
      "A temperatura convertida em Fahrenheit é: 82.4!\n"
     ]
    }
   ],
   "source": [
    "temperatura = float(input(\"Digite a temperatura em grau Celsius: \"))\n",
    "\n",
    "Fahrenheit = temperatura * 9/5 + 32\n",
    "\n",
    "print(f\"A temperatura convertida em Fahrenheit é: {Fahrenheit}!\")"
   ]
  },
  {
   "cell_type": "markdown",
   "metadata": {},
   "source": [
    "## Estrutura Condicional"
   ]
  },
  {
   "cell_type": "markdown",
   "metadata": {},
   "source": [
    "Escreva um programa em Python que solicite ao usuário um número e verifique se ele é positivo, negativo ou zero. Exiba a mensagem correspondente.\n"
   ]
  },
  {
   "cell_type": "code",
   "execution_count": 45,
   "metadata": {},
   "outputs": [
    {
     "name": "stdin",
     "output_type": "stream",
     "text": [
      "Digite um número:  10\n"
     ]
    },
    {
     "name": "stdout",
     "output_type": "stream",
     "text": [
      "O número é positivo!\n"
     ]
    }
   ],
   "source": [
    "numero = float(input(\"Digite um número: \"))\n",
    "\n",
    "if numero > 0:\n",
    "    print(f\"O número é positivo!\")\n",
    "elif numero < 0:\n",
    "    print(f\"O número é negativo!\")\n",
    "else:\n",
    "    print(f\"O número é zero!\")"
   ]
  },
  {
   "cell_type": "markdown",
   "metadata": {},
   "source": [
    "Escreva um programa em Python que solicite ao usuário três números e determine qual é o maior entre eles.\n"
   ]
  },
  {
   "cell_type": "code",
   "execution_count": 48,
   "metadata": {},
   "outputs": [
    {
     "name": "stdin",
     "output_type": "stream",
     "text": [
      "Digite o primeiro número:  10\n",
      "Digite o segundo número:  20\n",
      "Digite o terceiro número:  40\n"
     ]
    },
    {
     "name": "stdout",
     "output_type": "stream",
     "text": [
      "O maior número é: 40.0!\n"
     ]
    }
   ],
   "source": [
    "numero1 = float(input(\"Digite o primeiro número: \"))\n",
    "numero2 = float(input(\"Digite o segundo número: \"))\n",
    "numero3 = float(input(\"Digite o terceiro número: \"))\n",
    "\n",
    "maior = numero1\n",
    "\n",
    "if numero2 > maior:\n",
    "    maior = numero2\n",
    "\n",
    "if numero3 > maior:\n",
    "    maior = numero3\n",
    "\n",
    "print(f\"O maior número é: {maior}!\")"
   ]
  },
  {
   "cell_type": "code",
   "execution_count": 53,
   "metadata": {},
   "outputs": [
    {
     "name": "stdin",
     "output_type": "stream",
     "text": [
      "Digite o primeiro número:  10\n",
      "Digite o segundo número:  50\n",
      "Digite o terceiro número:  600\n"
     ]
    },
    {
     "name": "stdout",
     "output_type": "stream",
     "text": [
      "O maior número é: 600.0!\n"
     ]
    }
   ],
   "source": [
    "numero1 = float(input(\"Digite o primeiro número: \"))\n",
    "numero2 = float(input(\"Digite o segundo número: \"))\n",
    "numero3 = float(input(\"Digite o terceiro número: \"))\n",
    "\n",
    "if numero1 >= numero2 and numero1 >= numero3:\n",
    "   print(f\"O maior número é: {numero1}!\")\n",
    "\n",
    "elif numero2 >= numero1 and numero2 >= numero3:\n",
    "    print(f\"O maior número é: {numero2}!\")\n",
    "\n",
    "else:\n",
    "    print(f\"O maior número é: {numero3}!\")"
   ]
  },
  {
   "cell_type": "markdown",
   "metadata": {},
   "source": [
    "## Estrutura de Repetição"
   ]
  },
  {
   "cell_type": "markdown",
   "metadata": {},
   "source": [
    "Escreva um programa em Python que exiba todos os números de 1 a 10.\n"
   ]
  },
  {
   "cell_type": "code",
   "execution_count": 64,
   "metadata": {},
   "outputs": [
    {
     "name": "stdin",
     "output_type": "stream",
     "text": [
      "Digite um número entre 1 e 9:  6\n"
     ]
    },
    {
     "name": "stdout",
     "output_type": "stream",
     "text": [
      "Tabuada do 6:\n",
      "6 x 1 = 6\n",
      "6 x 2 = 12\n",
      "6 x 3 = 18\n",
      "6 x 4 = 24\n",
      "6 x 5 = 30\n",
      "6 x 6 = 36\n",
      "6 x 7 = 42\n",
      "6 x 8 = 48\n",
      "6 x 9 = 54\n",
      "6 x 10 = 60\n"
     ]
    }
   ],
   "source": [
    "numero = int(input(\"Digite um número entre 1 e 9: \"))\n",
    "\n",
    "if 1 <= numero <= 9:\n",
    "    print(f\"Tabuada do {numero}:\")\n",
    "    for oi in range (1,11):\n",
    "        print(f\"{numero} x {oi} = {numero * oi}\")\n",
    "else:\n",
    "    print(f\"O número está fora do intervalo solicitado!\")"
   ]
  },
  {
   "cell_type": "code",
   "execution_count": 56,
   "metadata": {},
   "outputs": [
    {
     "name": "stdout",
     "output_type": "stream",
     "text": [
      "1\n",
      "2\n",
      "3\n",
      "4\n",
      "5\n",
      "6\n",
      "7\n",
      "8\n",
      "9\n",
      "10\n"
     ]
    }
   ],
   "source": [
    "for numero in range(1,11):\n",
    "    print(numero)"
   ]
  },
  {
   "cell_type": "markdown",
   "metadata": {},
   "source": [
    "Escreva um programa em Python que solicite ao usuário um número inteiro positivo e calcule o fatorial desse número.\n"
   ]
  },
  {
   "cell_type": "code",
   "execution_count": 68,
   "metadata": {},
   "outputs": [
    {
     "name": "stdin",
     "output_type": "stream",
     "text": [
      "Digite um número inteiro positivo:  10\n"
     ]
    },
    {
     "name": "stdout",
     "output_type": "stream",
     "text": [
      "O fatorial de 10 é: 3628800\n"
     ]
    }
   ],
   "source": [
    "# Solicita ao usuário para inserir um número inteiro positivo\n",
    "numero = int(input(\"Digite um número inteiro positivo: \"))\n",
    "\n",
    "# Verifica se o número é positivo\n",
    "if numero < 0:\n",
    "    print(\"Por favor, insira um número inteiro positivo.\")\n",
    "else:\n",
    "    fatorial = 1\n",
    "    for i in range(1, numero + 1):\n",
    "        fatorial *= i\n",
    "    print(\"O fatorial de\", numero, \"é:\", fatorial)"
   ]
  },
  {
   "cell_type": "markdown",
   "metadata": {},
   "source": [
    "# Geral"
   ]
  },
  {
   "cell_type": "markdown",
   "metadata": {},
   "source": [
    "Você é um cientista de dados e precisa analisar as notas de um conjunto de estudantes em uma disciplina. Você deverá escrever um programa em Python que solicite ao usuário o número de estudantes e, em seguida, as notas desses estudantes. O programa deve calcular e exibir:\n",
    "\n",
    "- A média das notas.\n",
    "- A maior e a menor nota.\n",
    "- O número de estudantes aprovados (nota maior ou igual a 6) e reprovados (nota menor que 6).\n",
    "\n",
    "Regras:\n",
    "\n",
    "- Utilize variáveis simples para armazenar as informações.\n",
    "- Utilize estruturas de repetição para coletar as notas dos estudantes.\n",
    "- Utilize estruturas condicionais para determinar o status de aprovação dos estudantes."
   ]
  },
  {
   "cell_type": "code",
   "execution_count": 75,
   "metadata": {},
   "outputs": [
    {
     "name": "stdin",
     "output_type": "stream",
     "text": [
      "Digite o número de estudantes:  5\n",
      "Digite a nota do estudante 1:  5.7\n",
      "Digite a nota do estudante 2:  2.5\n",
      "Digite a nota do estudante 3:  8.9\n",
      "Digite a nota do estudante 4:  1.3\n",
      "Digite a nota do estudante 5:  7.8\n"
     ]
    },
    {
     "name": "stdout",
     "output_type": "stream",
     "text": [
      "\n",
      "Resultados da Análise:\n",
      "Média das notas: 5.24\n",
      "Maior nota: 8.9\n",
      "Menor nota: 1.3\n",
      "Número de estudantes aprovados: 2\n",
      "Número de estudantes reprovados: 3\n"
     ]
    }
   ],
   "source": [
    "# Solicita o número de estudantes\n",
    "num_estudantes = int(input(\"Digite o número de estudantes: \"))\n",
    "\n",
    "# Inicializa variáveis para cálculos\n",
    "soma_notas = 0\n",
    "maior_nota = -1  # Inicializa com um valor baixo\n",
    "menor_nota = 101  # Inicializa com um valor alto\n",
    "num_aprovados = 0\n",
    "num_reprovados = 0\n",
    "\n",
    "# Coleta as notas dos estudantes e realiza os cálculos\n",
    "for i in range(num_estudantes):\n",
    "    nota = float(input(f\"Digite a nota do estudante {i+1}: \"))\n",
    "    soma_notas += nota\n",
    "\n",
    "    # Atualiza a maior e a menor nota\n",
    "    if nota > maior_nota:\n",
    "        maior_nota = nota\n",
    "    if nota < menor_nota:\n",
    "        menor_nota = nota\n",
    "\n",
    "    # Verifica se o estudante foi aprovado ou reprovado\n",
    "    if nota >= 6:\n",
    "        num_aprovados += 1\n",
    "    else:\n",
    "        num_reprovados += 1\n",
    "\n",
    "# Calcula a média das notas\n",
    "media_notas = soma_notas / num_estudantes\n",
    "\n",
    "# Exibe os resultados\n",
    "print(\"\\nResultados da Análise:\")\n",
    "print(f\"Média das notas: {media_notas:.2f}\")\n",
    "print(f\"Maior nota: {maior_nota}\")\n",
    "print(f\"Menor nota: {menor_nota}\")\n",
    "print(f\"Número de estudantes aprovados: {num_aprovados}\")\n",
    "print(f\"Número de estudantes reprovados: {num_reprovados}\")"
   ]
  },
  {
   "cell_type": "markdown",
   "metadata": {},
   "source": [
    "# Faça um programa que receba um número inteiro positivo e transforme esse número para binário."
   ]
  },
  {
   "cell_type": "code",
   "execution_count": 85,
   "metadata": {},
   "outputs": [
    {
     "name": "stdin",
     "output_type": "stream",
     "text": [
      "Digite um número inteiro positivo:  131\n"
     ]
    },
    {
     "name": "stdout",
     "output_type": "stream",
     "text": [
      "A representação binária é: 10000011\n"
     ]
    }
   ],
   "source": [
    "numero = int(input(\"Digite um número inteiro positivo: \"))\n",
    "\n",
    "if numero < 0:\n",
    "    print(\"Por favor, insira um número inteiro positivo.\")\n",
    "else: binario = []\n",
    "while numero > 0:\n",
    "    resto = numero % 2\n",
    "    binario.append(resto)\n",
    "    numero = numero // 2\n",
    "\n",
    "binario.reverse()\n",
    "\n",
    "binario_string = ''.join(str(bit) for bit in binario)\n",
    "\n",
    "print(f\"A representação binária é: {binario_string}\")"
   ]
  },
  {
   "cell_type": "markdown",
   "metadata": {},
   "source": [
    "## Fim da Aula 9"
   ]
  }
 ],
 "metadata": {
  "kernelspec": {
   "display_name": "Python 3 (ipykernel)",
   "language": "python",
   "name": "python3"
  },
  "language_info": {
   "codemirror_mode": {
    "name": "ipython",
    "version": 3
   },
   "file_extension": ".py",
   "mimetype": "text/x-python",
   "name": "python",
   "nbconvert_exporter": "python",
   "pygments_lexer": "ipython3",
   "version": "3.12.4"
  }
 },
 "nbformat": 4,
 "nbformat_minor": 4
}
